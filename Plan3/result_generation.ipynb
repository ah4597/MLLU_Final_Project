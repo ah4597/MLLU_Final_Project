{
 "cells": [
  {
   "cell_type": "code",
   "execution_count": 1,
   "id": "d4e62726-c55c-46b5-a682-4964d91ccf83",
   "metadata": {},
   "outputs": [],
   "source": [
    "import os\n",
    "import openai\n",
    "os.environ[\"OPENAI_API_KEY\"]=\"<MY-API-KEYS-HERE>\"\n",
    "openai.api_key = os.getenv(\"OPENAI_API_KEY\")"
   ]
  },
  {
   "cell_type": "code",
   "execution_count": 11,
   "id": "ad1997d0-dd6f-4b07-a703-a2ff00c26c2e",
   "metadata": {},
   "outputs": [],
   "source": [
    "# this is a test block and should be commented out in real-data generations\n",
    "#test_result = openai.Completion.create(\n",
    "  #engine=\"text-davinci-002\",\n",
    "  #prompt=\"Assume you are Hermoine Granger, what do you think of Ron Weasley?\",\n",
    "  #temperature=1,\n",
    "  #best_of=5,\n",
    "  #max_tokens=256,\n",
    "  #frequency_penalty=0.1,\n",
    "  #presence_penalty=0.1\n",
    "#)"
   ]
  },
  {
   "cell_type": "code",
   "execution_count": 10,
   "id": "b384e3da-b5a7-4793-9cb4-a0b41e8f468c",
   "metadata": {},
   "outputs": [
    {
     "data": {
      "text/plain": [
       "\"\\n\\nI think he's a great friend. He's always there for me when I need him and I know I can always count on him.\""
      ]
     },
     "execution_count": 10,
     "metadata": {},
     "output_type": "execute_result"
    }
   ],
   "source": [
    "# also a test block!!!\n",
    "# test_result[\"choices\"][0][\"text\"]"
   ]
  },
  {
   "cell_type": "code",
   "execution_count": 16,
   "id": "793123ce-fa1a-484e-8876-a57124e21188",
   "metadata": {},
   "outputs": [],
   "source": [
    "def create_result(model_name, model, general_prompts, specific_prompts):\n",
    "    if \"emet\" in model_name:\n",
    "        curr_charcter = \"Emet-Selch\"\n",
    "    elif \"hermione\" in model_name:\n",
    "        curr_character = \"Hermione Granger\"\n",
    "    else:\n",
    "        curr_character = \"Gandalf\"\n",
    "    \n",
    "    PREFIX = \"Assume you are \"+curr_character\n",
    "    all_prompts = [PREFIX+x for x in general_prompts]+specific_prompts[curr_character]\n",
    "    \n",
    "    completions = []\n",
    "    for prompt in all_prompts:\n",
    "        result = openai.Completion.create(\n",
    "                engine=model,\n",
    "                prompt=prompt,\n",
    "                temperature=1,\n",
    "                best_of=5,\n",
    "                max_tokens=256,\n",
    "                frequency_penalty=0.1,\n",
    "                presence_penalty=0.1\n",
    "            )\n",
    "        completions.append([prompt,result[\"choices\"][0][\"text\"].strip(\"\\n\")])\n",
    "      \n",
    "    return completions"
   ]
  },
  {
   "cell_type": "code",
   "execution_count": 15,
   "id": "03d8fe34-a4a6-4aaa-9d7e-0eb3435791f8",
   "metadata": {},
   "outputs": [],
   "source": [
    "models = {\"emet_dialogue\":\"davinci:ft-personal-2022-04-24-02-28-48\",\n",
    "        \"gandalf_ao3\":\"davinci:ft-personal-2022-05-05-00-12-06\",\n",
    "        \"hermione_dialogue\":\"davinci:ft-personal-2022-05-05-03-44-37\",\n",
    "        \"gandalf_dialogue\":\"davinci:ft-personal-2022-05-05-04-01-36\",\n",
    "        \"hermione_ao3\":\"\",\n",
    "        \"emet_ao3\":\"\",\n",
    "        \"hermione_combined\":\"\",\n",
    "        \"emet_combined\":\"\",\n",
    "        \"gandalf_combined\":\"\"}\n",
    "\n",
    "general_prompts = [\", what do you think of love?\",\", how are you today?\",\", what is your favorite place?\"]\n",
    "specific_prompts = {\"Emet-Selch\":[\"Assume you are Emet-Selch, why did you want to rejoin the worlds?\",\n",
    "                                 \"Assume you are Emet-Selch, what were you thinking when you were defeated by the warrior of light?\"],\n",
    "                   \"Hermione Granger\":[\"Assume you are Hermoine Granger, what do you think of Ron Weasley?\",\n",
    "                                      \"Assume you are Hermoine Granger, how did you keep such a good grade during your time at Hogwarts?\"],\n",
    "                   \"Gandalf\":[\"Assume you are Gandolf, why did you help Frodo?\",\n",
    "                             \"Assume you are Gandolf, how do you feel after Saruman's death?\"]}"
   ]
  },
  {
   "cell_type": "code",
   "execution_count": null,
   "id": "a4a61311-5950-4b7f-9d47-e73f6a276d1e",
   "metadata": {},
   "outputs": [],
   "source": [
    "result = {}\n",
    "for model_name, model in models.items():\n",
    "    result[model_name] = create_result(model_name, model, general_prompts, specific_prompts)"
   ]
  }
 ],
 "metadata": {
  "kernelspec": {
   "display_name": "Python 3",
   "language": "python",
   "name": "python3"
  },
  "language_info": {
   "codemirror_mode": {
    "name": "ipython",
    "version": 3
   },
   "file_extension": ".py",
   "mimetype": "text/x-python",
   "name": "python",
   "nbconvert_exporter": "python",
   "pygments_lexer": "ipython3",
   "version": "3.7.4"
  }
 },
 "nbformat": 4,
 "nbformat_minor": 5
}
