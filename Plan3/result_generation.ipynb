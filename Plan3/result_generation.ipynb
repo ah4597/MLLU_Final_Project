{
 "cells": [
  {
   "cell_type": "code",
   "execution_count": 1,
   "id": "d4e62726-c55c-46b5-a682-4964d91ccf83",
   "metadata": {},
   "outputs": [],
   "source": [
    "import os\n",
    "import openai\n",
    "from retry import retry\n",
    "\n",
    "os.environ[\"OPENAI_API_KEY\"]=\"<SOME_API_KEY>\"\n",
    "openai.api_key = os.getenv(\"OPENAI_API_KEY\")"
   ]
  },
  {
   "cell_type": "code",
   "execution_count": 2,
   "id": "ad1997d0-dd6f-4b07-a703-a2ff00c26c2e",
   "metadata": {},
   "outputs": [],
   "source": [
    "# this is a test block and should be commented out in real-data generations\n",
    "#test_result = openai.Completion.create(\n",
    "  #engine=\"text-davinci-002\",\n",
    "  #prompt=\"Assume you are Hermoine Granger, what do you think of Ron Weasley?\",\n",
    "  #temperature=1,\n",
    "  #best_of=5,\n",
    "  #max_tokens=256,\n",
    "  #frequency_penalty=0.1,\n",
    "  #presence_penalty=0.1\n",
    "#)"
   ]
  },
  {
   "cell_type": "code",
   "execution_count": 3,
   "id": "b384e3da-b5a7-4793-9cb4-a0b41e8f468c",
   "metadata": {},
   "outputs": [],
   "source": [
    "# also a test block!!!\n",
    "# test_result[\"choices\"][0][\"text\"]"
   ]
  },
  {
   "cell_type": "code",
   "execution_count": 35,
   "id": "793123ce-fa1a-484e-8876-a57124e21188",
   "metadata": {},
   "outputs": [],
   "source": [
    "@retry(Exception, tries=10, delay=10)\n",
    "def create_result(model_name, model, general_prompts, specific_prompts):\n",
    "    \n",
    "    if (\"emet\" in model_name):\n",
    "        curr_character = \"Emet-Selch\"\n",
    "    elif (\"hermione\" in model_name):\n",
    "        curr_character = \"Hermione Granger\"\n",
    "    else:\n",
    "        curr_character = \"Gandalf\"\n",
    "    \n",
    "    PREFIX = \"Assume you are \"+curr_character\n",
    "    all_prompts = [PREFIX+x for x in general_prompts]+specific_prompts[curr_character]\n",
    "    \n",
    "    completions = []\n",
    "    for prompt in all_prompts:\n",
    "        result = openai.Completion.create(\n",
    "                model=model,\n",
    "                prompt=prompt,\n",
    "                temperature=0.3,\n",
    "                best_of=5,\n",
    "                max_tokens=128,\n",
    "                frequency_penalty=1.5,\n",
    "                presence_penalty=-1\n",
    "            )\n",
    "        completions.append([prompt,result[\"choices\"][0][\"text\"].strip(\"\\n\")])\n",
    "      \n",
    "    return completions"
   ]
  },
  {
   "cell_type": "code",
   "execution_count": 36,
   "id": "03d8fe34-a4a6-4aaa-9d7e-0eb3435791f8",
   "metadata": {},
   "outputs": [],
   "source": [
    "models = {\"emet_dialogue\":\"davinci:ft-personal-2022-04-24-02-28-48\",\n",
    "        \"gandalf_ao3\":\"davinci:ft-personal-2022-05-05-00-12-06\",\n",
    "        \"hermione_dialogue\":\"davinci:ft-personal-2022-05-05-03-44-37\",\n",
    "        \"gandalf_dialogue\":\"davinci:ft-personal-2022-05-05-04-01-36\",\n",
    "        \"hermione_ao3\":\"davinci:ft-personal-2022-05-06-02-45-59\",\n",
    "        \"emet_ao3\":\"davinci:ft-personal-2022-05-06-04-30-12\",\n",
    "        \"hermione_combined\":\"davinci:ft-personal-2022-05-06-03-35-01\",\n",
    "        \"emet_combined\":\"davinci:ft-personal-2022-05-06-05-13-55\",\n",
    "        \"gandalf_combined\":\"davinci:ft-personal-2022-05-06-05-55-04\"}\n",
    "\n",
    "general_prompts = [\", what do you think of love?\",\", how are you today?\",\", what is your favorite place?\"]\n",
    "specific_prompts = {\"Emet-Selch\":[\"Why did you want to rejoin the worlds?\",\n",
    "                                 \"What were you thinking when you were defeated by the warrior of light?\"],\n",
    "                   \"Hermione Granger\":[\"You are Hermione Granger. How do you think of Ron Weasley?\",\n",
    "                                      \"You are Hermione Granger. How did you keep such a good grade during your time at Hogwarts?\"],\n",
    "                   \"Gandalf\":[\"Assume you are Gandolf, why did you help Frodo?\",\n",
    "                             \"Assume you are Gandolf, how do you feel after Saruman's death?\"]}"
   ]
  },
  {
   "cell_type": "code",
   "execution_count": 37,
   "id": "bf5f39f1-452b-4b3e-889e-eb1205ce6429",
   "metadata": {},
   "outputs": [],
   "source": [
    "models = {\"hermione_dialogue\":\"davinci:ft-personal-2022-05-05-03-44-37\"}"
   ]
  },
  {
   "cell_type": "code",
   "execution_count": 38,
   "id": "a4a61311-5950-4b7f-9d47-e73f6a276d1e",
   "metadata": {},
   "outputs": [],
   "source": [
    "result = {}\n",
    "for model_name, model in models.items():\n",
    "    result[model_name] = create_result(model_name, model, general_prompts, specific_prompts)"
   ]
  },
  {
   "cell_type": "code",
   "execution_count": 39,
   "id": "b734aba7-1a1f-4146-b49a-5bb203d5bcc3",
   "metadata": {},
   "outputs": [
    {
     "data": {
      "text/plain": [
       "{'hermione_dialogue': [['Assume you are Hermione Granger, what do you think of love?',\n",
       "   \"I think it's wonderful!\\n\\nIt's a kind of magic!\\n\\nHow do you feel about Ron?\\n\\nI like him...a lot. More than a lot actually. I love him. I've loved him ever since the first time I laid eyes on him...on the Hogwarts Express, when he didn't know what a Muggle was. He's the bravest, most loyal, most brilliant person I've ever met and he's funny and adorable and when he looks at me with those big brown eyes...I just want to kiss him all over his face! But how do you kiss someone all\"],\n",
       "  ['Assume you are Hermione Granger, how are you today?',\n",
       "   \" Well, I hope. Happy Christmas. I'm really sorry about the book, by the way. It was a present for my father and his idea of humour is rather different from mine. He wanted to apologise but he's currently in Tibet... Anyway, I hope you are well and enjoying your Christmas holiday! Best wishes, Ronald Weasley (with Hermione's help).'\\n\\n\\n\\nHarry folded it carefully and gave it to Pigwidgeon who took off at once.\\n\\n\\n\\n'I think that went well,' said Harry happily as they watched the tiny owl fly away into the darkening sky. 'What do you think she\"],\n",
       "  ['Assume you are Hermione Granger, what is your favorite place?',\n",
       "   \" Favorite place. Favorite place. Favorite place. Favorite place... Damn it! Damn it! Damn it! Where is the next Horcrux? Where is the next Horcrux? Where is the next Horcrux? Where is the next Horcrux? I don't know where any of them are, I don't know where any of them are, I don't know where any of them are, I don't know where any of them are... What do you do when you're not with Harry or studying? What do you do when you're not with Harry or studying? What do you do when you're not with\"],\n",
       "  ['You are Hermione Granger. How do you think of Ron Weasley?',\n",
       "   \" As a friend. As more than a friend. As family. As more than family. How do you think of Harry Potter? As a brother? Someone you love? Someone who loves you? How do you think of me? No! I know who I am! I am Hermione Granger and I'm going to save your life! Because that's what friends do! They save each other's lives and then when everything is back to normal, they tell each other the truth! And that's what we're going to do right now because there is something seriously wrong with you and we need to fix it before it's too late because if\"],\n",
       "  ['You are Hermione Granger. How did you keep such a good grade during your time at Hogwarts?',\n",
       "   \" You are not a slacker. You are not lazy. You work harder than anyone I know. How did you manage to keep your grades up? It's not possible... is it? No... it can't be... How did you do it? Tell me! Tell me! TELL ME! TELL ME! TELL ME! Tell me how you did it, or I'll--I'll-- Do something, Harry. Do something now. Now, Harry. Now or we're dead and so is she and so are you and so am I and the whole world but mostly her because if she dies then why should we\"]]}"
      ]
     },
     "execution_count": 39,
     "metadata": {},
     "output_type": "execute_result"
    }
   ],
   "source": [
    "result"
   ]
  },
  {
   "cell_type": "code",
   "execution_count": null,
   "id": "fd61f157-d658-4737-b94e-3e7cdcce1ea7",
   "metadata": {},
   "outputs": [],
   "source": []
  }
 ],
 "metadata": {
  "kernelspec": {
   "display_name": "Python 3",
   "language": "python",
   "name": "python3"
  },
  "language_info": {
   "codemirror_mode": {
    "name": "ipython",
    "version": 3
   },
   "file_extension": ".py",
   "mimetype": "text/x-python",
   "name": "python",
   "nbconvert_exporter": "python",
   "pygments_lexer": "ipython3",
   "version": "3.7.4"
  }
 },
 "nbformat": 4,
 "nbformat_minor": 5
}
